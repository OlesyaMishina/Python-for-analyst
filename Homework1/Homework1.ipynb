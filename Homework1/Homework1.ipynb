{
 "cells": [
  {
   "cell_type": "markdown",
   "id": "db309903",
   "metadata": {},
   "source": [
    "## Условие 1:\n",
    "Оформляйте ноутбук, используя эти советы:\n",
    "\n",
    "- Номер задачи - заголовок 2\n",
    "- Номер подзадачи - заголовок 3\n",
    "- Предоставленные наборы данных оформляйте, как код"
   ]
  },
  {
   "cell_type": "markdown",
   "id": "2be3ee07",
   "metadata": {},
   "source": [
    "## Условие 2:\n",
    "На складе лежат разные фрукты в разном количестве. Нужно написать функцию, которая на вход принимает любое количество названий фруктов и их количество, а возвращает общее количество фруктов на складе"
   ]
  },
  {
   "cell_type": "code",
   "execution_count": 7,
   "id": "c33fc428",
   "metadata": {},
   "outputs": [],
   "source": [
    "def fruit_summ(**kwargs):\n",
    "    fruit_summ = sum(kwargs.values())\n",
    "    return f'Total fruits: {fruit_summ}'"
   ]
  },
  {
   "cell_type": "code",
   "execution_count": 8,
   "id": "f9c3c8e3",
   "metadata": {},
   "outputs": [
    {
     "name": "stdout",
     "output_type": "stream",
     "text": [
      "Total fruits: 296\n"
     ]
    }
   ],
   "source": [
    "print(fruit_summ(mango=150, apples=12, bananas=56, kiwi=78))"
   ]
  },
  {
   "cell_type": "markdown",
   "id": "642c4c04",
   "metadata": {},
   "source": [
    "## Условие 3:\n",
    "Дан список с затратами на рекламу. Но в данных есть ошибки, некоторые затраты имеют отрицательную величину. Удалите такие значения из списка и посчитайте суммарные затраты. Используйте list comprehensions."
   ]
  },
  {
   "cell_type": "code",
   "execution_count": 75,
   "id": "e7e3bd59",
   "metadata": {},
   "outputs": [],
   "source": [
    "data = [100, 125, -90, 345, 655, -1, 0, 200]"
   ]
  },
  {
   "cell_type": "code",
   "execution_count": 76,
   "id": "9ccb63fd",
   "metadata": {},
   "outputs": [
    {
     "name": "stdout",
     "output_type": "stream",
     "text": [
      "[100, 125, 345, 655, 0, 200]\n"
     ]
    }
   ],
   "source": [
    "new_data=[]\n",
    "for i in data:\n",
    "    if i>=0:\n",
    "        new_data.append(i)\n",
    "print(new_data)"
   ]
  },
  {
   "cell_type": "code",
   "execution_count": 77,
   "id": "e456efe6",
   "metadata": {
    "scrolled": true
   },
   "outputs": [],
   "source": [
    "def correction_data (data:list)->dict:\n",
    "    new_data= [i for i in data if i>=0]\n",
    "    return new_data"
   ]
  },
  {
   "cell_type": "code",
   "execution_count": 74,
   "id": "6ab456e4",
   "metadata": {},
   "outputs": [
    {
     "data": {
      "text/plain": [
       "[100, 125, 345, 655, 0, 200]"
      ]
     },
     "execution_count": 74,
     "metadata": {},
     "output_type": "execute_result"
    }
   ],
   "source": [
    "correction_data(data)"
   ]
  },
  {
   "cell_type": "code",
   "execution_count": 84,
   "id": "6c3a18f6",
   "metadata": {},
   "outputs": [
    {
     "name": "stdout",
     "output_type": "stream",
     "text": [
      "Total cost 1425\n"
     ]
    }
   ],
   "source": [
    "print(f'Total cost {sum(new_data)}')\n"
   ]
  },
  {
   "cell_type": "markdown",
   "id": "23d35810",
   "metadata": {},
   "source": [
    "## Условие 4\n",
    "Даны два списка.\n",
    "Дата покупки:"
   ]
  },
  {
   "cell_type": "code",
   "execution_count": 1,
   "id": "7100bfec",
   "metadata": {},
   "outputs": [],
   "source": [
    "data=['2021-09-14', '2021-12-15', '2021-09-08', '2021-12-05', '2021-10-09', '2021-09-30', '2021-12-22',\n",
    "      '2021-11-29', '2021-12-24', '2021-11-26', '2021-10-27', '2021-12-18', '2021-11-09', '2021-11-23',\n",
    "      '2021-09-27', '2021-10-02', '2021-12-27', '2021-09-20', '2021-12-13', '2021-11-01', '2021-11-09',\n",
    "      '2021-12-06', '2021-12-08', '2021-10-09', '2021-10-31', '2021-09-30', '2021-11-09', '2021-12-13',\n",
    "      '2021-10-26', '2021-12-09']"
   ]
  },
  {
   "cell_type": "markdown",
   "id": "4ebba4f9",
   "metadata": {},
   "source": [
    "Суммы покупок по датам:"
   ]
  },
  {
   "cell_type": "code",
   "execution_count": 2,
   "id": "509d0aa6",
   "metadata": {},
   "outputs": [],
   "source": [
    "cost=[1270, 8413, 9028, 3703, 5739, 4095, 295, 4944, 5723, 3701, 4471, 651, 7037, 4274, 6275, 4988, 6930,\n",
    "      2971, 6592, 2004, 2822, 519, 3406, 2732, 5015, 2008, 316, 6333, 5700, 2887]"
   ]
  },
  {
   "cell_type": "markdown",
   "id": "725c5843",
   "metadata": {},
   "source": [
    "### Условиe 4.1 \n",
    "Найдите, какая выручка у компании в ноябре. Используйте list comprehensions"
   ]
  },
  {
   "cell_type": "code",
   "execution_count": 3,
   "id": "2ed77d9b",
   "metadata": {},
   "outputs": [],
   "source": [
    "def month_revenue(data1:list, data2:list, month:str)-> int:\n",
    "    month_rev=[data2[i] for i in range(len(data2)-1) if month in data1[i]]\n",
    "    return month_rev"
   ]
  },
  {
   "cell_type": "code",
   "execution_count": 4,
   "id": "b2646fba",
   "metadata": {
    "scrolled": true
   },
   "outputs": [
    {
     "name": "stdout",
     "output_type": "stream",
     "text": [
      "Total revenue in november is 25098.\n"
     ]
    }
   ],
   "source": [
    "month_rev = month_revenue(data, cost, '-11')\n",
    "\n",
    "print(f'Total revenue in november is {sum(month_rev)}.')"
   ]
  },
  {
   "cell_type": "markdown",
   "id": "1555e0d3",
   "metadata": {},
   "source": [
    "### Условие 4.2 \n",
    "Найдите выручку компании в зависимости от месяца. Для этого напишите функцию, которая на вход принимает список с датами и список с выручкой, а на выходе словарь, где ключи - это месяцы, а значения - это выручка. Используйте аннотирование типов."
   ]
  },
  {
   "cell_type": "code",
   "execution_count": 42,
   "id": "35cd8cec",
   "metadata": {},
   "outputs": [],
   "source": [
    "def month_revenue(data1:list, data2:list)-> dict:\n",
    "    month_rev={}\n",
    "    for i in range(len(data1)):\n",
    "        if data1[i].split(\"-\")[1] in month_rev.keys():\n",
    "            month_rev[data1[i].split(\"-\")[1]]+=data2[i]\n",
    "        else:\n",
    "            month_rev[data1[i].split(\"-\")[1]]=data2[i]\n",
    "    return month_rev"
   ]
  },
  {
   "cell_type": "code",
   "execution_count": 45,
   "id": "a1fe699c",
   "metadata": {},
   "outputs": [
    {
     "name": "stdout",
     "output_type": "stream",
     "text": [
      "{'09': 25647, '12': 45452, '10': 28645, '11': 25098}\n"
     ]
    }
   ],
   "source": [
    "sorted_month=month_revenue(data, cost)\n",
    "print(sorted_month)"
   ]
  },
  {
   "cell_type": "code",
   "execution_count": 46,
   "id": "19863d3f",
   "metadata": {},
   "outputs": [
    {
     "name": "stdout",
     "output_type": "stream",
     "text": [
      "[('09', 25647), ('10', 28645), ('11', 25098), ('12', 45452)]\n"
     ]
    }
   ],
   "source": [
    "print(sorted(sorted_month.items()))"
   ]
  },
  {
   "cell_type": "code",
   "execution_count": null,
   "id": "a7123130",
   "metadata": {},
   "outputs": [],
   "source": []
  }
 ],
 "metadata": {
  "kernelspec": {
   "display_name": "Python 3 (ipykernel)",
   "language": "python",
   "name": "python3"
  },
  "language_info": {
   "codemirror_mode": {
    "name": "ipython",
    "version": 3
   },
   "file_extension": ".py",
   "mimetype": "text/x-python",
   "name": "python",
   "nbconvert_exporter": "python",
   "pygments_lexer": "ipython3",
   "version": "3.10.9"
  }
 },
 "nbformat": 4,
 "nbformat_minor": 5
}
